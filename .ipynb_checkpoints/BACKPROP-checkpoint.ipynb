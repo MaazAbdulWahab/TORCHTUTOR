{
 "cells": [
  {
   "cell_type": "code",
   "execution_count": 1,
   "id": "121cc46d-6246-424d-b7c8-a43f889a803b",
   "metadata": {},
   "outputs": [],
   "source": [
    "import torch"
   ]
  },
  {
   "cell_type": "code",
   "execution_count": 2,
   "id": "5dbbe826-4690-494c-8751-0a3db951d61c",
   "metadata": {},
   "outputs": [],
   "source": [
    "x= torch.tensor([\n",
    "    0,\n",
    "    0.05,\n",
    "    0.1,\n",
    "    0.15,\n",
    "    0.2,\n",
    "    0.25,\n",
    "    0.3,\n",
    "    0.35,\n",
    "    0.4,\n",
    "    0.45,\n",
    "    0.5,\n",
    "    0.55,\n",
    "    0.6,\n",
    "    0.65,\n",
    "    0.7,\n",
    "    0.75,\n",
    "    0.8,\n",
    "    0.85,\n",
    "    0.9,\n",
    "    0.95,\n",
    "    1.0,\n",
    "])"
   ]
  },
  {
   "cell_type": "code",
   "execution_count": 3,
   "id": "7bef8c36-2a14-47d6-a336-4bb0e8bf74ac",
   "metadata": {},
   "outputs": [],
   "source": [
    "y= torch.tensor( [\n",
    "    0,\n",
    "    0.1,\n",
    "    0.2,\n",
    "    0.3,\n",
    "    0.4,\n",
    "    0.5,\n",
    "    0.6,\n",
    "    0.7,\n",
    "    0.8,\n",
    "    0.9,\n",
    "    1,\n",
    "    0.9,\n",
    "    0.8,\n",
    "    0.7,\n",
    "    0.6,\n",
    "    0.5,\n",
    "    0.4,\n",
    "    0.3,\n",
    "    0.2,\n",
    "    0.1,\n",
    "    0,\n",
    "])"
   ]
  },
  {
   "cell_type": "code",
   "execution_count": 4,
   "id": "2dd3d619-def2-49ff-881e-c8af4e37c196",
   "metadata": {},
   "outputs": [],
   "source": [
    "x=x.reshape(21,1)"
   ]
  },
  {
   "cell_type": "code",
   "execution_count": 5,
   "id": "c042d908-b828-4825-be49-d8e2e60763a2",
   "metadata": {},
   "outputs": [],
   "source": [
    "y=y.reshape(21,1)"
   ]
  },
  {
   "cell_type": "code",
   "execution_count": 6,
   "id": "383394eb-625d-43f9-82ea-08a3bd71914b",
   "metadata": {},
   "outputs": [],
   "source": [
    "w1= torch.rand(1,2, requires_grad=True)\n",
    "b1=torch.rand(1,2, requires_grad=True)"
   ]
  },
  {
   "cell_type": "code",
   "execution_count": 7,
   "id": "d1b32f88-42af-4b20-906c-adbc0f909655",
   "metadata": {},
   "outputs": [],
   "source": [
    "summation1=x.matmul(w1)"
   ]
  },
  {
   "cell_type": "code",
   "execution_count": 8,
   "id": "52be1fe5-41db-4e57-913a-20ba042a790f",
   "metadata": {},
   "outputs": [
    {
     "data": {
      "text/plain": [
       "tensor([[0.0000, 0.0000],\n",
       "        [0.0128, 0.0371],\n",
       "        [0.0256, 0.0741],\n",
       "        [0.0383, 0.1112],\n",
       "        [0.0511, 0.1482],\n",
       "        [0.0639, 0.1853],\n",
       "        [0.0767, 0.2224],\n",
       "        [0.0894, 0.2594],\n",
       "        [0.1022, 0.2965],\n",
       "        [0.1150, 0.3336],\n",
       "        [0.1278, 0.3706],\n",
       "        [0.1406, 0.4077],\n",
       "        [0.1533, 0.4447],\n",
       "        [0.1661, 0.4818],\n",
       "        [0.1789, 0.5189],\n",
       "        [0.1917, 0.5559],\n",
       "        [0.2044, 0.5930],\n",
       "        [0.2172, 0.6301],\n",
       "        [0.2300, 0.6671],\n",
       "        [0.2428, 0.7042],\n",
       "        [0.2556, 0.7412]], grad_fn=<MmBackward0>)"
      ]
     },
     "execution_count": 8,
     "metadata": {},
     "output_type": "execute_result"
    }
   ],
   "source": [
    "summation1"
   ]
  },
  {
   "cell_type": "code",
   "execution_count": 9,
   "id": "03e5f994-7595-42fc-aeeb-5b431ac75344",
   "metadata": {},
   "outputs": [],
   "source": [
    "output1= summation1 + b1"
   ]
  },
  {
   "cell_type": "code",
   "execution_count": 10,
   "id": "252b159e-fa2e-49df-a007-c0ab2384fb59",
   "metadata": {},
   "outputs": [
    {
     "data": {
      "text/plain": [
       "tensor([[0.8248, 0.8801],\n",
       "        [0.8376, 0.9172],\n",
       "        [0.8504, 0.9542],\n",
       "        [0.8631, 0.9913],\n",
       "        [0.8759, 1.0283],\n",
       "        [0.8887, 1.0654],\n",
       "        [0.9015, 1.1025],\n",
       "        [0.9142, 1.1395],\n",
       "        [0.9270, 1.1766],\n",
       "        [0.9398, 1.2137],\n",
       "        [0.9526, 1.2507],\n",
       "        [0.9654, 1.2878],\n",
       "        [0.9781, 1.3248],\n",
       "        [0.9909, 1.3619],\n",
       "        [1.0037, 1.3990],\n",
       "        [1.0165, 1.4360],\n",
       "        [1.0292, 1.4731],\n",
       "        [1.0420, 1.5102],\n",
       "        [1.0548, 1.5472],\n",
       "        [1.0676, 1.5843],\n",
       "        [1.0804, 1.6213]], grad_fn=<AddBackward0>)"
      ]
     },
     "execution_count": 10,
     "metadata": {},
     "output_type": "execute_result"
    }
   ],
   "source": [
    "output1"
   ]
  },
  {
   "cell_type": "code",
   "execution_count": 11,
   "id": "3e1e520d-2a6b-4d2f-99ce-b7db5dae8648",
   "metadata": {},
   "outputs": [],
   "source": [
    "w2= torch.rand(2,1, requires_grad=True)\n",
    "b2=torch.rand(1,1, requires_grad=True)"
   ]
  },
  {
   "cell_type": "code",
   "execution_count": 12,
   "id": "235843fa-a49f-46af-a199-980edc5e40bf",
   "metadata": {},
   "outputs": [],
   "source": [
    "summation2= output1.matmul(w2)"
   ]
  },
  {
   "cell_type": "code",
   "execution_count": 13,
   "id": "1098e3a4-331a-4cf9-9a3c-1a42f44fb88c",
   "metadata": {},
   "outputs": [
    {
     "data": {
      "text/plain": [
       "tensor([[1.4707],\n",
       "        [1.5122],\n",
       "        [1.5536],\n",
       "        [1.5950],\n",
       "        [1.6364],\n",
       "        [1.6778],\n",
       "        [1.7193],\n",
       "        [1.7607],\n",
       "        [1.8021],\n",
       "        [1.8435],\n",
       "        [1.8849],\n",
       "        [1.9264],\n",
       "        [1.9678],\n",
       "        [2.0092],\n",
       "        [2.0506],\n",
       "        [2.0920],\n",
       "        [2.1335],\n",
       "        [2.1749],\n",
       "        [2.2163],\n",
       "        [2.2577],\n",
       "        [2.2992]], grad_fn=<MmBackward0>)"
      ]
     },
     "execution_count": 13,
     "metadata": {},
     "output_type": "execute_result"
    }
   ],
   "source": [
    "summation2"
   ]
  },
  {
   "cell_type": "code",
   "execution_count": 14,
   "id": "36d39dba-4fc6-41ba-afcb-61914593af53",
   "metadata": {},
   "outputs": [],
   "source": [
    "output2=summation2 + b2"
   ]
  },
  {
   "cell_type": "code",
   "execution_count": 15,
   "id": "b97fe91a-1969-44d5-b13c-731bc787d20f",
   "metadata": {},
   "outputs": [
    {
     "data": {
      "text/plain": [
       "tensor([[2.4370],\n",
       "        [2.4785],\n",
       "        [2.5199],\n",
       "        [2.5613],\n",
       "        [2.6027],\n",
       "        [2.6441],\n",
       "        [2.6856],\n",
       "        [2.7270],\n",
       "        [2.7684],\n",
       "        [2.8098],\n",
       "        [2.8512],\n",
       "        [2.8927],\n",
       "        [2.9341],\n",
       "        [2.9755],\n",
       "        [3.0169],\n",
       "        [3.0583],\n",
       "        [3.0998],\n",
       "        [3.1412],\n",
       "        [3.1826],\n",
       "        [3.2240],\n",
       "        [3.2654]], grad_fn=<AddBackward0>)"
      ]
     },
     "execution_count": 15,
     "metadata": {},
     "output_type": "execute_result"
    }
   ],
   "source": [
    "output2"
   ]
  },
  {
   "cell_type": "code",
   "execution_count": 16,
   "id": "defea4c3-e728-40e1-8d56-a9730edc3821",
   "metadata": {},
   "outputs": [
    {
     "data": {
      "text/plain": [
       "tensor([[0.0000],\n",
       "        [0.1000],\n",
       "        [0.2000],\n",
       "        [0.3000],\n",
       "        [0.4000],\n",
       "        [0.5000],\n",
       "        [0.6000],\n",
       "        [0.7000],\n",
       "        [0.8000],\n",
       "        [0.9000],\n",
       "        [1.0000],\n",
       "        [0.9000],\n",
       "        [0.8000],\n",
       "        [0.7000],\n",
       "        [0.6000],\n",
       "        [0.5000],\n",
       "        [0.4000],\n",
       "        [0.3000],\n",
       "        [0.2000],\n",
       "        [0.1000],\n",
       "        [0.0000]])"
      ]
     },
     "execution_count": 16,
     "metadata": {},
     "output_type": "execute_result"
    }
   ],
   "source": [
    "y"
   ]
  },
  {
   "cell_type": "code",
   "execution_count": 17,
   "id": "5671fd6b-5a8a-4d8f-8290-7b78baeb913d",
   "metadata": {},
   "outputs": [],
   "source": [
    "loss= ((y- output2)**2).mean()"
   ]
  },
  {
   "cell_type": "code",
   "execution_count": 19,
   "id": "9f61fffe-6aae-4046-89d2-eeeabcf70703",
   "metadata": {},
   "outputs": [],
   "source": [
    "loss.backward()"
   ]
  },
  {
   "cell_type": "code",
   "execution_count": 20,
   "id": "d2c740d2-e6a7-41d0-b3a8-67ca0a6e99ed",
   "metadata": {},
   "outputs": [
    {
     "data": {
      "text/plain": [
       "tensor([[2.3611, 2.0100]])"
      ]
     },
     "execution_count": 20,
     "metadata": {},
     "output_type": "execute_result"
    }
   ],
   "source": [
    "w1.grad"
   ]
  },
  {
   "cell_type": "code",
   "execution_count": 21,
   "id": "bf3da536-335f-49bf-9a7d-93e1e9c8a8bf",
   "metadata": {},
   "outputs": [
    {
     "data": {
      "text/plain": [
       "tensor([[4.5636],\n",
       "        [6.0536]])"
      ]
     },
     "execution_count": 21,
     "metadata": {},
     "output_type": "execute_result"
    }
   ],
   "source": [
    "w2.grad"
   ]
  },
  {
   "cell_type": "code",
   "execution_count": 22,
   "id": "a6ca74e0-347c-4a49-ba27-71847bc7fbbc",
   "metadata": {},
   "outputs": [
    {
     "data": {
      "text/plain": [
       "tensor([[4.4384, 3.7785]])"
      ]
     },
     "execution_count": 22,
     "metadata": {},
     "output_type": "execute_result"
    }
   ],
   "source": [
    "b1.grad"
   ]
  },
  {
   "cell_type": "code",
   "execution_count": 23,
   "id": "7af46084-4d59-4a15-9261-818076f4c937",
   "metadata": {},
   "outputs": [
    {
     "data": {
      "text/plain": [
       "tensor([[4.7501]])"
      ]
     },
     "execution_count": 23,
     "metadata": {},
     "output_type": "execute_result"
    }
   ],
   "source": [
    "b2.grad"
   ]
  },
  {
   "cell_type": "code",
   "execution_count": null,
   "id": "70e5dd9f-00f0-429f-9163-a1a0ca896449",
   "metadata": {},
   "outputs": [],
   "source": []
  },
  {
   "cell_type": "code",
   "execution_count": null,
   "id": "ea7bdc8c-0c66-4c34-9ec5-b6bca5f635a6",
   "metadata": {},
   "outputs": [],
   "source": []
  },
  {
   "cell_type": "code",
   "execution_count": null,
   "id": "973fb5df-70ec-46eb-9b82-4b5a86339e01",
   "metadata": {},
   "outputs": [],
   "source": []
  },
  {
   "cell_type": "code",
   "execution_count": null,
   "id": "0602f12f-0d7f-46fe-b062-14c10ab56bf7",
   "metadata": {},
   "outputs": [],
   "source": [
    "w1= torch.rand(1,2, requires_grad=True)\n",
    "b1=torch.rand(1,2, requires_grad=True)\n",
    "w2= torch.rand(2,1, requires_grad=True)\n",
    "b2=torch.rand(1,1, requires_grad=True)"
   ]
  },
  {
   "cell_type": "code",
   "execution_count": null,
   "id": "f1000086-1923-409a-8421-7988591ac607",
   "metadata": {},
   "outputs": [],
   "source": []
  },
  {
   "cell_type": "code",
   "execution_count": null,
   "id": "2b811f0d-ddb4-41f2-a7a0-b788ce16ff24",
   "metadata": {},
   "outputs": [],
   "source": []
  }
 ],
 "metadata": {
  "kernelspec": {
   "display_name": "Python 3 (ipykernel)",
   "language": "python",
   "name": "python3"
  },
  "language_info": {
   "codemirror_mode": {
    "name": "ipython",
    "version": 3
   },
   "file_extension": ".py",
   "mimetype": "text/x-python",
   "name": "python",
   "nbconvert_exporter": "python",
   "pygments_lexer": "ipython3",
   "version": "3.11.4"
  }
 },
 "nbformat": 4,
 "nbformat_minor": 5
}
