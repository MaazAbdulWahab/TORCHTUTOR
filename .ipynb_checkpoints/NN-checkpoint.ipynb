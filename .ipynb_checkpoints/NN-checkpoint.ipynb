{
 "cells": [
  {
   "cell_type": "markdown",
   "id": "6072bee2-681c-4cf6-a5cb-496b69810c97",
   "metadata": {},
   "source": [
    "# IMPORTING AND LOADING DATA"
   ]
  },
  {
   "cell_type": "code",
   "execution_count": null,
   "id": "5d2e457c-e817-49db-adbe-31b65c64b295",
   "metadata": {},
   "outputs": [],
   "source": [
    "import torch"
   ]
  },
  {
   "cell_type": "code",
   "execution_count": null,
   "id": "4e78dd1a-ca71-4f98-85f1-917664bbc0c6",
   "metadata": {},
   "outputs": [],
   "source": [
    "x= torch.tensor([\n",
    "    0,\n",
    "    0.05,\n",
    "    0.1,\n",
    "    0.15,\n",
    "    0.2,\n",
    "    0.25,\n",
    "    0.3,\n",
    "    0.35,\n",
    "    0.4,\n",
    "    0.45,\n",
    "    0.5,\n",
    "    0.55,\n",
    "    0.6,\n",
    "    0.65,\n",
    "    0.7,\n",
    "    0.75,\n",
    "    0.8,\n",
    "    0.85,\n",
    "    0.9,\n",
    "    0.95,\n",
    "    1.0,\n",
    "])"
   ]
  },
  {
   "cell_type": "code",
   "execution_count": null,
   "id": "895791f9-cb1c-4e81-bd9f-c00f65d524aa",
   "metadata": {},
   "outputs": [],
   "source": [
    "y= torch.tensor( [\n",
    "    0,\n",
    "    0.1,\n",
    "    0.2,\n",
    "    0.3,\n",
    "    0.4,\n",
    "    0.5,\n",
    "    0.6,\n",
    "    0.7,\n",
    "    0.8,\n",
    "    0.9,\n",
    "    1,\n",
    "    0.9,\n",
    "    0.8,\n",
    "    0.7,\n",
    "    0.6,\n",
    "    0.5,\n",
    "    0.4,\n",
    "    0.3,\n",
    "    0.2,\n",
    "    0.1,\n",
    "    0,\n",
    "])"
   ]
  },
  {
   "cell_type": "markdown",
   "id": "bc315751-56af-4f9e-831b-04bb8e936cdd",
   "metadata": {},
   "source": [
    "# CONVERT TO BATCH"
   ]
  },
  {
   "cell_type": "code",
   "execution_count": null,
   "id": "b25a49d1-1e6b-4bbc-940c-28b87b49a165",
   "metadata": {},
   "outputs": [],
   "source": [
    "x=x.reshape(x.shape[0],1)"
   ]
  },
  {
   "cell_type": "code",
   "execution_count": null,
   "id": "5c21e523-e7f8-40f7-9522-3420b7b46359",
   "metadata": {},
   "outputs": [],
   "source": [
    "y=y.reshape(y.shape[0],1)"
   ]
  },
  {
   "cell_type": "code",
   "execution_count": null,
   "id": "1c55fb10-bf22-4622-8c06-104d502f4be1",
   "metadata": {},
   "outputs": [],
   "source": [
    "x"
   ]
  },
  {
   "cell_type": "code",
   "execution_count": null,
   "id": "e59aa18a-7d68-4812-9233-a8bdfca3bdf3",
   "metadata": {},
   "outputs": [],
   "source": [
    "y"
   ]
  },
  {
   "cell_type": "code",
   "execution_count": null,
   "id": "ed9f36d7-de34-4f3c-8e14-7a96b32a439c",
   "metadata": {},
   "outputs": [],
   "source": [
    "from torch import nn"
   ]
  },
  {
   "cell_type": "markdown",
   "id": "9afc1b4f-c3ba-470b-83ad-0dc34c8bf63b",
   "metadata": {},
   "source": [
    "# CREATE THE MODEL OF THE ASSIGNMENT"
   ]
  },
  {
   "cell_type": "code",
   "execution_count": null,
   "id": "2cd4ef60-9a30-48dd-b1e4-e582ca3b344a",
   "metadata": {},
   "outputs": [],
   "source": [
    "\n",
    "class NeuralNetwork(nn.Module):\n",
    "    def __init__(self):\n",
    "        super(NeuralNetwork, self).__init__()\n",
    "        self.layer_1 = nn.Linear(1, 2)\n",
    "        \n",
    "        self.layer_2 = nn.Linear(2, 1)\n",
    "        \n",
    "       \n",
    "    def forward(self, x):\n",
    "        x = torch.nn.functional.relu(self.layer_1(x))\n",
    "        x = self.layer_2(x)\n",
    "        x= torch.nn.functional.relu(x)\n",
    "\n",
    "        return x\n",
    "       "
   ]
  },
  {
   "cell_type": "code",
   "execution_count": null,
   "id": "ef400522-d9c0-452c-9e73-2f54b821571a",
   "metadata": {},
   "outputs": [],
   "source": [
    "model= NeuralNetwork()"
   ]
  },
  {
   "cell_type": "code",
   "execution_count": null,
   "id": "c8abaa71-ae89-4068-b31e-553e52a9eec9",
   "metadata": {},
   "outputs": [],
   "source": [
    "model.parameters"
   ]
  },
  {
   "cell_type": "markdown",
   "id": "7e48b051-a320-439f-ae78-b8c896c8f805",
   "metadata": {},
   "source": [
    "# THE CRITERION IS THE LOSS FUNCTION AND THE OPTIMIZER IS THE LEARNING ALGORITHM (GRADIENT DESCENT)"
   ]
  },
  {
   "cell_type": "code",
   "execution_count": null,
   "id": "8c22aeda-c99e-46db-9bc8-ddc6a1dbc0ab",
   "metadata": {},
   "outputs": [],
   "source": [
    "criterion = nn.MSELoss()"
   ]
  },
  {
   "cell_type": "code",
   "execution_count": null,
   "id": "2185e288-5d9f-4c8e-b402-f90be9ca782b",
   "metadata": {},
   "outputs": [],
   "source": [
    "optimizer = torch.optim.SGD(model.parameters(), lr=0.1)  "
   ]
  },
  {
   "cell_type": "markdown",
   "id": "0f0547aa-40dd-44dc-a73b-1941071ffc55",
   "metadata": {},
   "source": [
    "# EVERY EPOCH , WE DO A FORWARD PASS, CALCULATE THE LOSS AND THEN CALCULATE GRADIENTS IN BACKWARD PASS\n",
    "# OPTIMIZER STEP FUNCTION UPDATES THE WEIGHTS AND BIASES WITH THE GRADIENTS AND THEN EMPTY THE GRADIENT \n",
    "# FUNCTIONS"
   ]
  },
  {
   "cell_type": "code",
   "execution_count": null,
   "id": "63800fec-4a85-4a82-b167-1606bd451adf",
   "metadata": {},
   "outputs": [],
   "source": [
    "num_epochs = 10000\n",
    "for epoch in range(num_epochs):\n",
    "    # Forward pass and loss\n",
    "    y_predicted = model(x)\n",
    "    loss = criterion(y_predicted, y)\n",
    "\n",
    "    # Backward pass and update\n",
    "    loss.backward()\n",
    "    optimizer.step()\n",
    "\n",
    "    # zero grad before new step\n",
    "    optimizer.zero_grad()\n",
    "\n",
    "    \n",
    "    print(f'epoch: {epoch+1}, loss = {loss.item():.4f}')\n"
   ]
  },
  {
   "cell_type": "code",
   "execution_count": null,
   "id": "40cf117b-fd7e-4fb2-b7e3-1685611acdf6",
   "metadata": {},
   "outputs": [],
   "source": [
    "for op in model.named_parameters():\n",
    "    print(op)"
   ]
  }
 ],
 "metadata": {
  "kernelspec": {
   "display_name": "Python 3 (ipykernel)",
   "language": "python",
   "name": "python3"
  },
  "language_info": {
   "codemirror_mode": {
    "name": "ipython",
    "version": 3
   },
   "file_extension": ".py",
   "mimetype": "text/x-python",
   "name": "python",
   "nbconvert_exporter": "python",
   "pygments_lexer": "ipython3",
   "version": "3.11.4"
  }
 },
 "nbformat": 4,
 "nbformat_minor": 5
}
