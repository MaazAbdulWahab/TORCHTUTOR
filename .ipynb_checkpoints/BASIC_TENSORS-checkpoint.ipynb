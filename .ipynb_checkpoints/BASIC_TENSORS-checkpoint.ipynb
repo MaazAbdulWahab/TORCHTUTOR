{
 "cells": [
  {
   "cell_type": "markdown",
   "id": "68fad92b-2eac-45f1-80ac-e19cb091e45e",
   "metadata": {},
   "source": [
    "# Importing"
   ]
  },
  {
   "cell_type": "code",
   "execution_count": 42,
   "id": "7364e43a-a66b-45fe-9fb7-74c17d329f41",
   "metadata": {},
   "outputs": [],
   "source": [
    "import torch"
   ]
  },
  {
   "cell_type": "markdown",
   "id": "466f22e6-dfaf-4f62-b486-55bf47994f0e",
   "metadata": {},
   "source": [
    "## The container for data is tensor"
   ]
  },
  {
   "cell_type": "markdown",
   "id": "8282e92c-08f9-4e5b-9e1e-faa6fa0a8db6",
   "metadata": {},
   "source": [
    "### Initialize with appropriate shape"
   ]
  },
  {
   "cell_type": "markdown",
   "id": "7aa1343c-1f47-4b8e-b752-5d6db7c0943f",
   "metadata": {},
   "source": [
    "### The ones and zeros tensors"
   ]
  },
  {
   "cell_type": "code",
   "execution_count": 43,
   "id": "53da84f6-5df2-465e-8ef8-7c0ffaf2b44f",
   "metadata": {},
   "outputs": [],
   "source": [
    "ones= torch.ones(5,4, dtype=torch.float)"
   ]
  },
  {
   "cell_type": "code",
   "execution_count": 44,
   "id": "173de8ab-43bb-482c-8559-e49b3e9e07a4",
   "metadata": {},
   "outputs": [
    {
     "data": {
      "text/plain": [
       "tensor([[1., 1., 1., 1.],\n",
       "        [1., 1., 1., 1.],\n",
       "        [1., 1., 1., 1.],\n",
       "        [1., 1., 1., 1.],\n",
       "        [1., 1., 1., 1.]])"
      ]
     },
     "execution_count": 44,
     "metadata": {},
     "output_type": "execute_result"
    }
   ],
   "source": [
    "ones"
   ]
  },
  {
   "cell_type": "code",
   "execution_count": 45,
   "id": "a5e03b95-7074-4b57-bb5b-8fe857585d48",
   "metadata": {},
   "outputs": [],
   "source": [
    "zeros= torch.zeros(4,2, dtype=torch.float)"
   ]
  },
  {
   "cell_type": "code",
   "execution_count": 46,
   "id": "298f4fe0-2f2e-460e-aa1c-9ba5bac751e4",
   "metadata": {},
   "outputs": [
    {
     "data": {
      "text/plain": [
       "tensor([[0., 0.],\n",
       "        [0., 0.],\n",
       "        [0., 0.],\n",
       "        [0., 0.]])"
      ]
     },
     "execution_count": 46,
     "metadata": {},
     "output_type": "execute_result"
    }
   ],
   "source": [
    "zeros"
   ]
  },
  {
   "cell_type": "markdown",
   "id": "a1bb55d0-b4cc-4c38-9ee4-bce43973866a",
   "metadata": {},
   "source": [
    "### To get the shape"
   ]
  },
  {
   "cell_type": "code",
   "execution_count": 47,
   "id": "33635d5b-8afd-4b11-b32d-b9e89cdc370a",
   "metadata": {},
   "outputs": [
    {
     "data": {
      "text/plain": [
       "torch.Size([4, 2])"
      ]
     },
     "execution_count": 47,
     "metadata": {},
     "output_type": "execute_result"
    }
   ],
   "source": [
    "zeros.shape"
   ]
  },
  {
   "cell_type": "markdown",
   "id": "73022a29-447c-4661-8c3e-010c01a189f1",
   "metadata": {},
   "source": [
    "### Generate a random tensor"
   ]
  },
  {
   "cell_type": "code",
   "execution_count": 48,
   "id": "8776ac70-e23e-4187-9853-fe0d28f8ab0d",
   "metadata": {},
   "outputs": [],
   "source": [
    "r= torch.rand(5,4, dtype= torch.float)"
   ]
  },
  {
   "cell_type": "code",
   "execution_count": 49,
   "id": "8206b351-e91d-4f20-8279-e990480679cf",
   "metadata": {},
   "outputs": [
    {
     "data": {
      "text/plain": [
       "tensor([[0.8672, 0.7686, 0.7250, 0.0731],\n",
       "        [0.0604, 0.8481, 0.2844, 0.5597],\n",
       "        [0.0063, 0.5622, 0.5074, 0.2196],\n",
       "        [0.8526, 0.0558, 0.9442, 0.3298],\n",
       "        [0.4966, 0.9093, 0.1262, 0.4308]])"
      ]
     },
     "execution_count": 49,
     "metadata": {},
     "output_type": "execute_result"
    }
   ],
   "source": [
    "r"
   ]
  },
  {
   "cell_type": "code",
   "execution_count": 50,
   "id": "aafc5146-511f-434b-8cc1-4a0744f43329",
   "metadata": {},
   "outputs": [],
   "source": [
    "r2= torch.rand(1,dtype=torch.float)"
   ]
  },
  {
   "cell_type": "code",
   "execution_count": 51,
   "id": "e88d5072-0561-43cd-bfa2-5b9568012bc2",
   "metadata": {},
   "outputs": [
    {
     "data": {
      "text/plain": [
       "tensor([0.9311])"
      ]
     },
     "execution_count": 51,
     "metadata": {},
     "output_type": "execute_result"
    }
   ],
   "source": [
    "r2"
   ]
  },
  {
   "cell_type": "markdown",
   "id": "9968b31c-6259-45cf-ba8b-f12a481781b5",
   "metadata": {},
   "source": [
    "### Initialize tensor with your data or iterable"
   ]
  },
  {
   "cell_type": "code",
   "execution_count": 52,
   "id": "cb78e624-f066-4792-8511-ff15c8b24ca7",
   "metadata": {},
   "outputs": [],
   "source": [
    "my= torch.tensor(1, dtype=torch.float)"
   ]
  },
  {
   "cell_type": "code",
   "execution_count": 53,
   "id": "25ca9697-e606-40c3-bc80-a918b1073f60",
   "metadata": {},
   "outputs": [
    {
     "data": {
      "text/plain": [
       "tensor(1.)"
      ]
     },
     "execution_count": 53,
     "metadata": {},
     "output_type": "execute_result"
    }
   ],
   "source": [
    "my"
   ]
  },
  {
   "cell_type": "code",
   "execution_count": 54,
   "id": "2491763b-b7dd-4e33-a8aa-b80420697bc2",
   "metadata": {},
   "outputs": [],
   "source": [
    "my2= torch.tensor(range(5), dtype=torch.float)"
   ]
  },
  {
   "cell_type": "code",
   "execution_count": 55,
   "id": "7347eda6-a37b-4880-b780-a9f232a7a701",
   "metadata": {},
   "outputs": [
    {
     "data": {
      "text/plain": [
       "tensor([0., 1., 2., 3., 4.])"
      ]
     },
     "execution_count": 55,
     "metadata": {},
     "output_type": "execute_result"
    }
   ],
   "source": [
    "my2"
   ]
  },
  {
   "cell_type": "markdown",
   "id": "9119038b-2236-4869-b151-31b842d51120",
   "metadata": {},
   "source": [
    "## Tensor Arithmetic"
   ]
  },
  {
   "cell_type": "code",
   "execution_count": 56,
   "id": "c8ae0914-c2a2-40ce-b822-4f30cf7011c4",
   "metadata": {},
   "outputs": [
    {
     "name": "stdout",
     "output_type": "stream",
     "text": [
      "tensor([[0.3056, 0.0846, 0.5187, 0.3739],\n",
      "        [0.1005, 0.5322, 0.2262, 0.7535],\n",
      "        [0.0674, 0.9661, 0.8922, 0.9854],\n",
      "        [0.1463, 0.9316, 0.3803, 0.9789],\n",
      "        [0.6550, 0.5438, 0.7012, 0.7005]])\n",
      "\n",
      "\n",
      "tensor([[0.2561, 0.4350, 0.6285, 0.9575],\n",
      "        [0.9898, 0.3828, 0.4008, 0.6114],\n",
      "        [0.7239, 0.5562, 0.1857, 0.1622],\n",
      "        [0.2286, 0.0844, 0.8500, 0.6292],\n",
      "        [0.7700, 0.6626, 0.7356, 0.2638]])\n"
     ]
    }
   ],
   "source": [
    "a1= torch.rand(5,4, dtype=torch.float)\n",
    "a2= torch.rand(5,4, dtype =torch.float)\n",
    "print(a1)\n",
    "print('\\n')\n",
    "print(a2)"
   ]
  },
  {
   "cell_type": "code",
   "execution_count": 57,
   "id": "85985884-1e5d-4b33-b68f-2b15e33f1b80",
   "metadata": {},
   "outputs": [
    {
     "data": {
      "text/plain": [
       "tensor([[0.5617, 0.5197, 1.1471, 1.3313],\n",
       "        [1.0903, 0.9150, 0.6270, 1.3649],\n",
       "        [0.7913, 1.5222, 1.0779, 1.1476],\n",
       "        [0.3749, 1.0160, 1.2303, 1.6082],\n",
       "        [1.4250, 1.2064, 1.4368, 0.9643]])"
      ]
     },
     "execution_count": 57,
     "metadata": {},
     "output_type": "execute_result"
    }
   ],
   "source": [
    "a1+a2"
   ]
  },
  {
   "cell_type": "code",
   "execution_count": 58,
   "id": "f2dcae1d-cbfd-49c9-a793-23e5eac9f4c2",
   "metadata": {},
   "outputs": [
    {
     "data": {
      "text/plain": [
       "tensor([[0.5617, 0.5197, 1.1471, 1.3313],\n",
       "        [1.0903, 0.9150, 0.6270, 1.3649],\n",
       "        [0.7913, 1.5222, 1.0779, 1.1476],\n",
       "        [0.3749, 1.0160, 1.2303, 1.6082],\n",
       "        [1.4250, 1.2064, 1.4368, 0.9643]])"
      ]
     },
     "execution_count": 58,
     "metadata": {},
     "output_type": "execute_result"
    }
   ],
   "source": [
    "a1.add(a2)"
   ]
  },
  {
   "cell_type": "markdown",
   "id": "019d1d5e-66b6-45e5-9e77-7523c070de0b",
   "metadata": {},
   "source": [
    "### Inplace Operation"
   ]
  },
  {
   "cell_type": "code",
   "execution_count": 59,
   "id": "3b393732-2fe2-402a-bbb6-f628c7b5a704",
   "metadata": {},
   "outputs": [
    {
     "data": {
      "text/plain": [
       "tensor([[0.5617, 0.5197, 1.1471, 1.3313],\n",
       "        [1.0903, 0.9150, 0.6270, 1.3649],\n",
       "        [0.7913, 1.5222, 1.0779, 1.1476],\n",
       "        [0.3749, 1.0160, 1.2303, 1.6082],\n",
       "        [1.4250, 1.2064, 1.4368, 0.9643]])"
      ]
     },
     "execution_count": 59,
     "metadata": {},
     "output_type": "execute_result"
    }
   ],
   "source": [
    "a1.add_(a2)"
   ]
  },
  {
   "cell_type": "code",
   "execution_count": 60,
   "id": "c94132ae-7855-4fdc-868b-7fe01b6a25cf",
   "metadata": {},
   "outputs": [
    {
     "data": {
      "text/plain": [
       "tensor([[0.5617, 0.5197, 1.1471, 1.3313],\n",
       "        [1.0903, 0.9150, 0.6270, 1.3649],\n",
       "        [0.7913, 1.5222, 1.0779, 1.1476],\n",
       "        [0.3749, 1.0160, 1.2303, 1.6082],\n",
       "        [1.4250, 1.2064, 1.4368, 0.9643]])"
      ]
     },
     "execution_count": 60,
     "metadata": {},
     "output_type": "execute_result"
    }
   ],
   "source": [
    "a1"
   ]
  },
  {
   "cell_type": "code",
   "execution_count": 61,
   "id": "0c5738b4-a0a1-40a1-bf2d-33886b4202c2",
   "metadata": {},
   "outputs": [
    {
     "data": {
      "text/plain": [
       "tensor([[0.3056, 0.0846, 0.5187, 0.3739],\n",
       "        [0.1005, 0.5322, 0.2262, 0.7535],\n",
       "        [0.0674, 0.9661, 0.8922, 0.9854],\n",
       "        [0.1463, 0.9316, 0.3803, 0.9789],\n",
       "        [0.6550, 0.5438, 0.7012, 0.7005]])"
      ]
     },
     "execution_count": 61,
     "metadata": {},
     "output_type": "execute_result"
    }
   ],
   "source": [
    "a1.subtract(a2)"
   ]
  },
  {
   "cell_type": "code",
   "execution_count": 62,
   "id": "09520ab2-84aa-473f-9a4f-e643ab7ad529",
   "metadata": {},
   "outputs": [
    {
     "data": {
      "text/plain": [
       "tensor([[0.1438, 0.2261, 0.7210, 1.2747],\n",
       "        [1.0792, 0.3503, 0.2513, 0.8345],\n",
       "        [0.5728, 0.8466, 0.2002, 0.1861],\n",
       "        [0.0857, 0.0858, 1.0458, 1.0119],\n",
       "        [1.0972, 0.7994, 1.0569, 0.2544]])"
      ]
     },
     "execution_count": 62,
     "metadata": {},
     "output_type": "execute_result"
    }
   ],
   "source": [
    "a1.mul(a2)"
   ]
  },
  {
   "cell_type": "code",
   "execution_count": 63,
   "id": "25e65abf-87dd-4037-a972-e2532c140eff",
   "metadata": {},
   "outputs": [
    {
     "ename": "RuntimeError",
     "evalue": "mat1 and mat2 shapes cannot be multiplied (5x4 and 5x4)",
     "output_type": "error",
     "traceback": [
      "\u001b[1;31m---------------------------------------------------------------------------\u001b[0m",
      "\u001b[1;31mRuntimeError\u001b[0m                              Traceback (most recent call last)",
      "Cell \u001b[1;32mIn[63], line 1\u001b[0m\n\u001b[1;32m----> 1\u001b[0m \u001b[43ma1\u001b[49m\u001b[38;5;241;43m.\u001b[39;49m\u001b[43mmatmul\u001b[49m\u001b[43m(\u001b[49m\u001b[43ma2\u001b[49m\u001b[43m)\u001b[49m\n",
      "\u001b[1;31mRuntimeError\u001b[0m: mat1 and mat2 shapes cannot be multiplied (5x4 and 5x4)"
     ]
    }
   ],
   "source": [
    "a1.matmul(a2)"
   ]
  },
  {
   "cell_type": "markdown",
   "id": "0e554dc3-a830-42de-9e4c-4f78ed6f02ea",
   "metadata": {},
   "source": [
    "### View as another shape"
   ]
  },
  {
   "cell_type": "code",
   "execution_count": 64,
   "id": "8526a795-f0bc-4d25-8d01-f2bd4c5c3f3d",
   "metadata": {},
   "outputs": [],
   "source": [
    "a2 = a2.view(4,5)"
   ]
  },
  {
   "cell_type": "code",
   "execution_count": 65,
   "id": "f03cef92-a408-4ad8-acf9-d3fe8e2abd0b",
   "metadata": {},
   "outputs": [
    {
     "data": {
      "text/plain": [
       "tensor([[0.2561, 0.4350, 0.6285, 0.9575, 0.9898],\n",
       "        [0.3828, 0.4008, 0.6114, 0.7239, 0.5562],\n",
       "        [0.1857, 0.1622, 0.2286, 0.0844, 0.8500],\n",
       "        [0.6292, 0.7700, 0.6626, 0.7356, 0.2638]])"
      ]
     },
     "execution_count": 65,
     "metadata": {},
     "output_type": "execute_result"
    }
   ],
   "source": [
    "a2"
   ]
  },
  {
   "cell_type": "code",
   "execution_count": 66,
   "id": "d4d6cc94-2ff3-4779-bdfb-e1fee17fd297",
   "metadata": {},
   "outputs": [
    {
     "data": {
      "text/plain": [
       "tensor([[0.5617, 0.5197, 1.1471, 1.3313],\n",
       "        [1.0903, 0.9150, 0.6270, 1.3649],\n",
       "        [0.7913, 1.5222, 1.0779, 1.1476],\n",
       "        [0.3749, 1.0160, 1.2303, 1.6082],\n",
       "        [1.4250, 1.2064, 1.4368, 0.9643]])"
      ]
     },
     "execution_count": 66,
     "metadata": {},
     "output_type": "execute_result"
    }
   ],
   "source": [
    "a1"
   ]
  },
  {
   "cell_type": "code",
   "execution_count": 67,
   "id": "d4dccad0-b821-4b18-8e83-20f30fc4627f",
   "metadata": {},
   "outputs": [
    {
     "data": {
      "text/plain": [
       "tensor([[1.3935, 1.6638, 1.8151, 1.9901, 2.1713],\n",
       "        [1.6047, 1.9937, 2.2924, 2.7632, 2.4811],\n",
       "        [1.7076, 2.0128, 2.4348, 2.7947, 2.8489],\n",
       "        [1.7253, 2.0081, 2.2036, 2.3812, 2.4062],\n",
       "        [1.7003, 2.0790, 2.6006, 3.0683, 3.5571]])"
      ]
     },
     "execution_count": 67,
     "metadata": {},
     "output_type": "execute_result"
    }
   ],
   "source": [
    "a1.matmul(a2)"
   ]
  },
  {
   "cell_type": "markdown",
   "id": "b53da7e7-f3cd-47b2-bb43-6c6995b6650b",
   "metadata": {},
   "source": [
    "### View inferr"
   ]
  },
  {
   "cell_type": "code",
   "execution_count": 68,
   "id": "1ee15f0b-fd5e-4897-ac7d-d3ebc23fbdba",
   "metadata": {},
   "outputs": [],
   "source": [
    "a3 = torch.rand(5,4)"
   ]
  },
  {
   "cell_type": "code",
   "execution_count": 69,
   "id": "d73d6f7a-f99a-427e-8f5b-34622a7e71f1",
   "metadata": {},
   "outputs": [
    {
     "data": {
      "text/plain": [
       "tensor([[0.2453, 0.6240],\n",
       "        [0.9097, 0.3461],\n",
       "        [0.6341, 0.8197],\n",
       "        [0.5194, 0.5498],\n",
       "        [0.2385, 0.5570],\n",
       "        [0.7309, 0.5853],\n",
       "        [0.8263, 0.9160],\n",
       "        [0.3000, 0.5076],\n",
       "        [0.1970, 0.6587],\n",
       "        [0.9718, 0.1383]])"
      ]
     },
     "execution_count": 69,
     "metadata": {},
     "output_type": "execute_result"
    }
   ],
   "source": [
    "a3.view(10,-1)"
   ]
  },
  {
   "cell_type": "code",
   "execution_count": 70,
   "id": "ce7a9517-bdff-43fb-942e-bc5f1d0ccf07",
   "metadata": {},
   "outputs": [
    {
     "data": {
      "text/plain": [
       "torch.Size([10, 2])"
      ]
     },
     "execution_count": 70,
     "metadata": {},
     "output_type": "execute_result"
    }
   ],
   "source": [
    "a3.view(10,-1).shape"
   ]
  },
  {
   "cell_type": "markdown",
   "id": "f74300d1-dda9-42d3-873d-b3468ab1ab29",
   "metadata": {},
   "source": [
    "#"
   ]
  },
  {
   "cell_type": "markdown",
   "id": "dfd49b24-dae8-4db8-a80f-3384a9b0d2f5",
   "metadata": {},
   "source": [
    "## Scalars Operations"
   ]
  },
  {
   "cell_type": "code",
   "execution_count": 71,
   "id": "90de7b06-e298-49b1-aa2d-2be45f8d8e60",
   "metadata": {},
   "outputs": [
    {
     "data": {
      "text/plain": [
       "tensor([[8., 8., 8., 8.],\n",
       "        [8., 8., 8., 8.],\n",
       "        [8., 8., 8., 8.],\n",
       "        [8., 8., 8., 8.],\n",
       "        [8., 8., 8., 8.]])"
      ]
     },
     "execution_count": 71,
     "metadata": {},
     "output_type": "execute_result"
    }
   ],
   "source": [
    "torch.ones(5,4)+7"
   ]
  },
  {
   "cell_type": "code",
   "execution_count": 72,
   "id": "40cd3424-5488-46f1-bf6f-20493d85f7dc",
   "metadata": {},
   "outputs": [
    {
     "data": {
      "text/plain": [
       "tensor([4, 4, 4])"
      ]
     },
     "execution_count": 72,
     "metadata": {},
     "output_type": "execute_result"
    }
   ],
   "source": [
    "torch.tensor([2,2,2]) **2"
   ]
  },
  {
   "cell_type": "markdown",
   "id": "cdd11612-ee41-40bf-ba4c-90ed057999f9",
   "metadata": {},
   "source": [
    "## Other Operations"
   ]
  },
  {
   "cell_type": "code",
   "execution_count": 73,
   "id": "2ef2cf5f-2c09-45de-9f72-c012f7e83ff0",
   "metadata": {},
   "outputs": [],
   "source": [
    "newT= torch.rand(5,4)"
   ]
  },
  {
   "cell_type": "code",
   "execution_count": 74,
   "id": "fe9feb9a-9cfb-48d8-8272-e92d2f5e6c95",
   "metadata": {},
   "outputs": [
    {
     "data": {
      "text/plain": [
       "tensor([[0.5674, 0.8650, 0.4307, 0.6485],\n",
       "        [0.4967, 0.3688, 0.8301, 0.3023],\n",
       "        [0.7277, 0.1349, 0.2680, 0.9617],\n",
       "        [0.0682, 0.4957, 0.9250, 0.9008],\n",
       "        [0.5984, 0.2527, 0.6823, 0.6804]])"
      ]
     },
     "execution_count": 74,
     "metadata": {},
     "output_type": "execute_result"
    }
   ],
   "source": [
    "newT"
   ]
  },
  {
   "cell_type": "code",
   "execution_count": 78,
   "id": "61c4c3e9-bf12-4568-8819-f89138668578",
   "metadata": {},
   "outputs": [
    {
     "name": "stdout",
     "output_type": "stream",
     "text": [
      "tensor(0.0682)\n",
      "tensor(0.9617)\n",
      "tensor(0.5603)\n",
      "tensor([[0.6382, 0.7037, 0.6060, 0.6567],\n",
      "        [0.6217, 0.5912, 0.6964, 0.5750],\n",
      "        [0.6743, 0.5337, 0.5666, 0.7235],\n",
      "        [0.5170, 0.6214, 0.7161, 0.7111],\n",
      "        [0.6453, 0.5629, 0.6643, 0.6638]])\n",
      "tensor([[0.5374, 0.7611, 0.4175, 0.6040],\n",
      "        [0.4765, 0.3605, 0.7380, 0.2977],\n",
      "        [0.6652, 0.1345, 0.2648, 0.8201],\n",
      "        [0.0681, 0.4756, 0.7986, 0.7838],\n",
      "        [0.5633, 0.2501, 0.6306, 0.6291]])\n"
     ]
    }
   ],
   "source": [
    "print(newT.min())\n",
    "print(newT.max())\n",
    "print(newT.mean())\n",
    "print(torch.sigmoid(newT))\n",
    "print(torch.sin(newT))"
   ]
  },
  {
   "cell_type": "markdown",
   "id": "a5fc07dc-0b2a-496d-b060-75283f60c045",
   "metadata": {},
   "source": [
    "## Deep Copy"
   ]
  },
  {
   "cell_type": "code",
   "execution_count": 79,
   "id": "a585a566-8fd2-4941-8b7f-addaa44cd05f",
   "metadata": {},
   "outputs": [],
   "source": [
    "c= torch.rand(1,2, dtype=torch.float)"
   ]
  },
  {
   "cell_type": "code",
   "execution_count": 80,
   "id": "cf5824ff-3b17-4dc0-8690-397418e06336",
   "metadata": {},
   "outputs": [
    {
     "data": {
      "text/plain": [
       "tensor([[0.7898, 0.9480]])"
      ]
     },
     "execution_count": 80,
     "metadata": {},
     "output_type": "execute_result"
    }
   ],
   "source": [
    "c"
   ]
  },
  {
   "cell_type": "code",
   "execution_count": 81,
   "id": "1e53e73b-4236-46a6-afce-37980e51ab1b",
   "metadata": {},
   "outputs": [],
   "source": [
    "cc=c"
   ]
  },
  {
   "cell_type": "code",
   "execution_count": 82,
   "id": "bdf4002b-f60e-4728-b87b-39537b3f1f92",
   "metadata": {},
   "outputs": [
    {
     "data": {
      "text/plain": [
       "tensor([[0.7898, 0.9480]])"
      ]
     },
     "execution_count": 82,
     "metadata": {},
     "output_type": "execute_result"
    }
   ],
   "source": [
    "cc"
   ]
  },
  {
   "cell_type": "code",
   "execution_count": 84,
   "id": "60b059f0-3657-48a5-9588-c66f953d541c",
   "metadata": {},
   "outputs": [],
   "source": [
    "c[0,1]=2"
   ]
  },
  {
   "cell_type": "code",
   "execution_count": 85,
   "id": "22474e15-4468-47c9-b5ed-7801950697b8",
   "metadata": {},
   "outputs": [
    {
     "data": {
      "text/plain": [
       "tensor([[0.7898, 2.0000]])"
      ]
     },
     "execution_count": 85,
     "metadata": {},
     "output_type": "execute_result"
    }
   ],
   "source": [
    "c"
   ]
  },
  {
   "cell_type": "code",
   "execution_count": 86,
   "id": "c2c3d231-12d3-4edb-9f9d-16c5df563740",
   "metadata": {},
   "outputs": [
    {
     "data": {
      "text/plain": [
       "tensor([[0.7898, 2.0000]])"
      ]
     },
     "execution_count": 86,
     "metadata": {},
     "output_type": "execute_result"
    }
   ],
   "source": [
    "cc"
   ]
  },
  {
   "cell_type": "code",
   "execution_count": 87,
   "id": "024f339e-d235-48c5-be44-1edd99669e65",
   "metadata": {},
   "outputs": [],
   "source": [
    "cc= c.clone()"
   ]
  },
  {
   "cell_type": "code",
   "execution_count": 88,
   "id": "35b6e0a4-5d44-42a9-a131-89bfafb1e1f7",
   "metadata": {},
   "outputs": [
    {
     "data": {
      "text/plain": [
       "tensor([[0.7898, 2.0000]])"
      ]
     },
     "execution_count": 88,
     "metadata": {},
     "output_type": "execute_result"
    }
   ],
   "source": [
    "cc"
   ]
  },
  {
   "cell_type": "code",
   "execution_count": 89,
   "id": "1fae6f67-5fa1-4f91-b64b-35ef69f384ac",
   "metadata": {},
   "outputs": [],
   "source": [
    "c[0,0]=1"
   ]
  },
  {
   "cell_type": "code",
   "execution_count": 90,
   "id": "580ba4dc-1d3c-41e3-b257-15c85da30a7b",
   "metadata": {},
   "outputs": [
    {
     "data": {
      "text/plain": [
       "tensor([[1., 2.]])"
      ]
     },
     "execution_count": 90,
     "metadata": {},
     "output_type": "execute_result"
    }
   ],
   "source": [
    "c"
   ]
  },
  {
   "cell_type": "code",
   "execution_count": 91,
   "id": "7392c7cc-f746-4cd1-a795-db39f1d9cdc5",
   "metadata": {},
   "outputs": [
    {
     "data": {
      "text/plain": [
       "tensor([[0.7898, 2.0000]])"
      ]
     },
     "execution_count": 91,
     "metadata": {},
     "output_type": "execute_result"
    }
   ],
   "source": [
    "cc"
   ]
  },
  {
   "cell_type": "code",
   "execution_count": null,
   "id": "38d3a541-59db-4d4d-b42f-d685cc362288",
   "metadata": {},
   "outputs": [],
   "source": []
  }
 ],
 "metadata": {
  "kernelspec": {
   "display_name": "Python 3 (ipykernel)",
   "language": "python",
   "name": "python3"
  },
  "language_info": {
   "codemirror_mode": {
    "name": "ipython",
    "version": 3
   },
   "file_extension": ".py",
   "mimetype": "text/x-python",
   "name": "python",
   "nbconvert_exporter": "python",
   "pygments_lexer": "ipython3",
   "version": "3.11.4"
  }
 },
 "nbformat": 4,
 "nbformat_minor": 5
}
