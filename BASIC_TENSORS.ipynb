{
 "cells": [
  {
   "cell_type": "markdown",
   "id": "68fad92b-2eac-45f1-80ac-e19cb091e45e",
   "metadata": {},
   "source": [
    "# Importing"
   ]
  },
  {
   "cell_type": "code",
   "execution_count": 1,
   "id": "7364e43a-a66b-45fe-9fb7-74c17d329f41",
   "metadata": {},
   "outputs": [],
   "source": [
    "import torch"
   ]
  },
  {
   "cell_type": "markdown",
   "id": "466f22e6-dfaf-4f62-b486-55bf47994f0e",
   "metadata": {},
   "source": [
    "## The container for data is tensor"
   ]
  },
  {
   "cell_type": "markdown",
   "id": "8282e92c-08f9-4e5b-9e1e-faa6fa0a8db6",
   "metadata": {},
   "source": [
    "### Initialize with appropriate shape"
   ]
  },
  {
   "cell_type": "markdown",
   "id": "7aa1343c-1f47-4b8e-b752-5d6db7c0943f",
   "metadata": {},
   "source": [
    "### The ones and zeros tensors"
   ]
  },
  {
   "cell_type": "code",
   "execution_count": 2,
   "id": "53da84f6-5df2-465e-8ef8-7c0ffaf2b44f",
   "metadata": {},
   "outputs": [],
   "source": [
    "ones= torch.ones(5,4, dtype=torch.float)"
   ]
  },
  {
   "cell_type": "code",
   "execution_count": 3,
   "id": "173de8ab-43bb-482c-8559-e49b3e9e07a4",
   "metadata": {},
   "outputs": [
    {
     "data": {
      "text/plain": [
       "tensor([[1., 1., 1., 1.],\n",
       "        [1., 1., 1., 1.],\n",
       "        [1., 1., 1., 1.],\n",
       "        [1., 1., 1., 1.],\n",
       "        [1., 1., 1., 1.]])"
      ]
     },
     "execution_count": 3,
     "metadata": {},
     "output_type": "execute_result"
    }
   ],
   "source": [
    "ones"
   ]
  },
  {
   "cell_type": "code",
   "execution_count": 4,
   "id": "a5e03b95-7074-4b57-bb5b-8fe857585d48",
   "metadata": {},
   "outputs": [],
   "source": [
    "zeros= torch.zeros(4,2, dtype=torch.float)"
   ]
  },
  {
   "cell_type": "code",
   "execution_count": 5,
   "id": "298f4fe0-2f2e-460e-aa1c-9ba5bac751e4",
   "metadata": {},
   "outputs": [
    {
     "data": {
      "text/plain": [
       "tensor([[0., 0.],\n",
       "        [0., 0.],\n",
       "        [0., 0.],\n",
       "        [0., 0.]])"
      ]
     },
     "execution_count": 5,
     "metadata": {},
     "output_type": "execute_result"
    }
   ],
   "source": [
    "zeros"
   ]
  },
  {
   "cell_type": "markdown",
   "id": "a1bb55d0-b4cc-4c38-9ee4-bce43973866a",
   "metadata": {},
   "source": [
    "### To get the shape"
   ]
  },
  {
   "cell_type": "code",
   "execution_count": 6,
   "id": "33635d5b-8afd-4b11-b32d-b9e89cdc370a",
   "metadata": {},
   "outputs": [
    {
     "data": {
      "text/plain": [
       "torch.Size([4, 2])"
      ]
     },
     "execution_count": 6,
     "metadata": {},
     "output_type": "execute_result"
    }
   ],
   "source": [
    "zeros.shape"
   ]
  },
  {
   "cell_type": "markdown",
   "id": "73022a29-447c-4661-8c3e-010c01a189f1",
   "metadata": {},
   "source": [
    "### Generate a random tensor"
   ]
  },
  {
   "cell_type": "code",
   "execution_count": 7,
   "id": "8776ac70-e23e-4187-9853-fe0d28f8ab0d",
   "metadata": {},
   "outputs": [],
   "source": [
    "r= torch.rand(5,4, dtype= torch.float)"
   ]
  },
  {
   "cell_type": "code",
   "execution_count": 8,
   "id": "8206b351-e91d-4f20-8279-e990480679cf",
   "metadata": {},
   "outputs": [
    {
     "data": {
      "text/plain": [
       "tensor([[0.2325, 0.5166, 0.6169, 0.0117],\n",
       "        [0.0944, 0.6806, 0.7061, 0.0471],\n",
       "        [0.3918, 0.7869, 0.0319, 0.1059],\n",
       "        [0.7255, 0.1786, 0.5272, 0.4366],\n",
       "        [0.7018, 0.9213, 0.9260, 0.5538]])"
      ]
     },
     "execution_count": 8,
     "metadata": {},
     "output_type": "execute_result"
    }
   ],
   "source": [
    "r"
   ]
  },
  {
   "cell_type": "code",
   "execution_count": 9,
   "id": "aafc5146-511f-434b-8cc1-4a0744f43329",
   "metadata": {},
   "outputs": [],
   "source": [
    "r2= torch.rand(1,dtype=torch.float)"
   ]
  },
  {
   "cell_type": "code",
   "execution_count": 10,
   "id": "e88d5072-0561-43cd-bfa2-5b9568012bc2",
   "metadata": {},
   "outputs": [
    {
     "data": {
      "text/plain": [
       "tensor([0.1594])"
      ]
     },
     "execution_count": 10,
     "metadata": {},
     "output_type": "execute_result"
    }
   ],
   "source": [
    "r2"
   ]
  },
  {
   "cell_type": "markdown",
   "id": "9968b31c-6259-45cf-ba8b-f12a481781b5",
   "metadata": {},
   "source": [
    "### Initialize tensor with your data or iterable"
   ]
  },
  {
   "cell_type": "code",
   "execution_count": 11,
   "id": "cb78e624-f066-4792-8511-ff15c8b24ca7",
   "metadata": {},
   "outputs": [],
   "source": [
    "my= torch.tensor(1, dtype=torch.float)"
   ]
  },
  {
   "cell_type": "code",
   "execution_count": 12,
   "id": "25ca9697-e606-40c3-bc80-a918b1073f60",
   "metadata": {},
   "outputs": [
    {
     "data": {
      "text/plain": [
       "tensor(1.)"
      ]
     },
     "execution_count": 12,
     "metadata": {},
     "output_type": "execute_result"
    }
   ],
   "source": [
    "my"
   ]
  },
  {
   "cell_type": "code",
   "execution_count": 13,
   "id": "2491763b-b7dd-4e33-a8aa-b80420697bc2",
   "metadata": {},
   "outputs": [],
   "source": [
    "my2= torch.tensor(range(5), dtype=torch.float)"
   ]
  },
  {
   "cell_type": "code",
   "execution_count": 14,
   "id": "7347eda6-a37b-4880-b780-a9f232a7a701",
   "metadata": {},
   "outputs": [
    {
     "data": {
      "text/plain": [
       "tensor([0., 1., 2., 3., 4.])"
      ]
     },
     "execution_count": 14,
     "metadata": {},
     "output_type": "execute_result"
    }
   ],
   "source": [
    "my2"
   ]
  },
  {
   "cell_type": "markdown",
   "id": "9119038b-2236-4869-b151-31b842d51120",
   "metadata": {},
   "source": [
    "## Tensor Arithmetic"
   ]
  },
  {
   "cell_type": "code",
   "execution_count": 15,
   "id": "c8ae0914-c2a2-40ce-b822-4f30cf7011c4",
   "metadata": {},
   "outputs": [
    {
     "name": "stdout",
     "output_type": "stream",
     "text": [
      "tensor([[0.3033, 0.8813, 0.4944, 0.2110],\n",
      "        [0.2462, 0.1738, 0.4483, 0.0673],\n",
      "        [0.1819, 0.2117, 0.1670, 0.7999],\n",
      "        [0.4305, 0.8803, 0.4405, 0.9221],\n",
      "        [0.2972, 0.3534, 0.9907, 0.4477]])\n",
      "\n",
      "\n",
      "tensor([[0.1052, 0.0360, 0.3020, 0.2188],\n",
      "        [0.9780, 0.4994, 0.5570, 0.2019],\n",
      "        [0.9708, 0.2790, 0.2884, 0.4788],\n",
      "        [0.4945, 0.7198, 0.1162, 0.4181],\n",
      "        [0.1896, 0.1859, 0.8768, 0.2391]])\n"
     ]
    }
   ],
   "source": [
    "a1= torch.rand(5,4, dtype=torch.float)\n",
    "a2= torch.rand(5,4, dtype =torch.float)\n",
    "print(a1)\n",
    "print('\\n')\n",
    "print(a2)"
   ]
  },
  {
   "cell_type": "code",
   "execution_count": 16,
   "id": "85985884-1e5d-4b33-b68f-2b15e33f1b80",
   "metadata": {},
   "outputs": [
    {
     "data": {
      "text/plain": [
       "tensor([[0.4085, 0.9173, 0.7964, 0.4298],\n",
       "        [1.2242, 0.6732, 1.0053, 0.2692],\n",
       "        [1.1527, 0.4908, 0.4555, 1.2787],\n",
       "        [0.9250, 1.6002, 0.5567, 1.3402],\n",
       "        [0.4868, 0.5393, 1.8675, 0.6868]])"
      ]
     },
     "execution_count": 16,
     "metadata": {},
     "output_type": "execute_result"
    }
   ],
   "source": [
    "a1+a2"
   ]
  },
  {
   "cell_type": "code",
   "execution_count": 17,
   "id": "f2dcae1d-cbfd-49c9-a793-23e5eac9f4c2",
   "metadata": {},
   "outputs": [
    {
     "data": {
      "text/plain": [
       "tensor([[0.4085, 0.9173, 0.7964, 0.4298],\n",
       "        [1.2242, 0.6732, 1.0053, 0.2692],\n",
       "        [1.1527, 0.4908, 0.4555, 1.2787],\n",
       "        [0.9250, 1.6002, 0.5567, 1.3402],\n",
       "        [0.4868, 0.5393, 1.8675, 0.6868]])"
      ]
     },
     "execution_count": 17,
     "metadata": {},
     "output_type": "execute_result"
    }
   ],
   "source": [
    "a1.add(a2)"
   ]
  },
  {
   "cell_type": "markdown",
   "id": "019d1d5e-66b6-45e5-9e77-7523c070de0b",
   "metadata": {},
   "source": [
    "### Inplace Operation"
   ]
  },
  {
   "cell_type": "code",
   "execution_count": 18,
   "id": "3b393732-2fe2-402a-bbb6-f628c7b5a704",
   "metadata": {},
   "outputs": [
    {
     "data": {
      "text/plain": [
       "tensor([[0.4085, 0.9173, 0.7964, 0.4298],\n",
       "        [1.2242, 0.6732, 1.0053, 0.2692],\n",
       "        [1.1527, 0.4908, 0.4555, 1.2787],\n",
       "        [0.9250, 1.6002, 0.5567, 1.3402],\n",
       "        [0.4868, 0.5393, 1.8675, 0.6868]])"
      ]
     },
     "execution_count": 18,
     "metadata": {},
     "output_type": "execute_result"
    }
   ],
   "source": [
    "a1.add_(a2)"
   ]
  },
  {
   "cell_type": "code",
   "execution_count": 19,
   "id": "c94132ae-7855-4fdc-868b-7fe01b6a25cf",
   "metadata": {},
   "outputs": [
    {
     "data": {
      "text/plain": [
       "tensor([[0.4085, 0.9173, 0.7964, 0.4298],\n",
       "        [1.2242, 0.6732, 1.0053, 0.2692],\n",
       "        [1.1527, 0.4908, 0.4555, 1.2787],\n",
       "        [0.9250, 1.6002, 0.5567, 1.3402],\n",
       "        [0.4868, 0.5393, 1.8675, 0.6868]])"
      ]
     },
     "execution_count": 19,
     "metadata": {},
     "output_type": "execute_result"
    }
   ],
   "source": [
    "a1"
   ]
  },
  {
   "cell_type": "code",
   "execution_count": 20,
   "id": "0c5738b4-a0a1-40a1-bf2d-33886b4202c2",
   "metadata": {},
   "outputs": [
    {
     "data": {
      "text/plain": [
       "tensor([[0.3033, 0.8813, 0.4944, 0.2110],\n",
       "        [0.2462, 0.1738, 0.4483, 0.0673],\n",
       "        [0.1819, 0.2117, 0.1670, 0.7999],\n",
       "        [0.4305, 0.8803, 0.4405, 0.9221],\n",
       "        [0.2972, 0.3534, 0.9907, 0.4477]])"
      ]
     },
     "execution_count": 20,
     "metadata": {},
     "output_type": "execute_result"
    }
   ],
   "source": [
    "a1.subtract(a2)"
   ]
  },
  {
   "cell_type": "code",
   "execution_count": 21,
   "id": "09520ab2-84aa-473f-9a4f-e643ab7ad529",
   "metadata": {},
   "outputs": [
    {
     "data": {
      "text/plain": [
       "tensor([[0.0430, 0.0330, 0.2405, 0.0941],\n",
       "        [1.1972, 0.3362, 0.5599, 0.0544],\n",
       "        [1.1191, 0.1370, 0.1314, 0.6123],\n",
       "        [0.4574, 1.1519, 0.0647, 0.5603],\n",
       "        [0.0923, 0.1003, 1.6375, 0.1642]])"
      ]
     },
     "execution_count": 21,
     "metadata": {},
     "output_type": "execute_result"
    }
   ],
   "source": [
    "a1.mul(a2)"
   ]
  },
  {
   "cell_type": "code",
   "execution_count": 22,
   "id": "25e65abf-87dd-4037-a972-e2532c140eff",
   "metadata": {},
   "outputs": [
    {
     "ename": "RuntimeError",
     "evalue": "mat1 and mat2 shapes cannot be multiplied (5x4 and 5x4)",
     "output_type": "error",
     "traceback": [
      "\u001b[1;31m---------------------------------------------------------------------------\u001b[0m",
      "\u001b[1;31mRuntimeError\u001b[0m                              Traceback (most recent call last)",
      "Cell \u001b[1;32mIn[22], line 1\u001b[0m\n\u001b[1;32m----> 1\u001b[0m \u001b[43ma1\u001b[49m\u001b[38;5;241;43m.\u001b[39;49m\u001b[43mmatmul\u001b[49m\u001b[43m(\u001b[49m\u001b[43ma2\u001b[49m\u001b[43m)\u001b[49m\n",
      "\u001b[1;31mRuntimeError\u001b[0m: mat1 and mat2 shapes cannot be multiplied (5x4 and 5x4)"
     ]
    }
   ],
   "source": [
    "a1.matmul(a2)"
   ]
  },
  {
   "cell_type": "markdown",
   "id": "0e554dc3-a830-42de-9e4c-4f78ed6f02ea",
   "metadata": {},
   "source": [
    "### View as another shape"
   ]
  },
  {
   "cell_type": "code",
   "execution_count": 31,
   "id": "8526a795-f0bc-4d25-8d01-f2bd4c5c3f3d",
   "metadata": {},
   "outputs": [],
   "source": [
    "a2 = a2.view(4,5)"
   ]
  },
  {
   "cell_type": "code",
   "execution_count": 32,
   "id": "f03cef92-a408-4ad8-acf9-d3fe8e2abd0b",
   "metadata": {},
   "outputs": [
    {
     "data": {
      "text/plain": [
       "tensor([[0.1052, 0.0360, 0.3020, 0.2188, 0.9780],\n",
       "        [0.4994, 0.5570, 0.2019, 0.9708, 0.2790],\n",
       "        [0.2884, 0.4788, 0.4945, 0.7198, 0.1162],\n",
       "        [0.4181, 0.1896, 0.1859, 0.8768, 0.2391]])"
      ]
     },
     "execution_count": 32,
     "metadata": {},
     "output_type": "execute_result"
    }
   ],
   "source": [
    "a2"
   ]
  },
  {
   "cell_type": "code",
   "execution_count": 33,
   "id": "d4d6cc94-2ff3-4779-bdfb-e1fee17fd297",
   "metadata": {},
   "outputs": [
    {
     "data": {
      "text/plain": [
       "tensor([[0.4085, 0.9173, 0.7964, 0.4298],\n",
       "        [1.2242, 0.6732, 1.0053, 0.2692],\n",
       "        [1.1527, 0.4908, 0.4555, 1.2787],\n",
       "        [0.9250, 1.6002, 0.5567, 1.3402],\n",
       "        [0.4868, 0.5393, 1.8675, 0.6868]])"
      ]
     },
     "execution_count": 33,
     "metadata": {},
     "output_type": "execute_result"
    }
   ],
   "source": [
    "a1"
   ]
  },
  {
   "cell_type": "code",
   "execution_count": 34,
   "id": "d4dccad0-b821-4b18-8e83-20f30fc4627f",
   "metadata": {},
   "outputs": [
    {
     "data": {
      "text/plain": [
       "tensor([[0.9104, 0.9884, 0.7823, 1.9300, 0.8508],\n",
       "        [0.8674, 0.9514, 1.0528, 1.8811, 1.5663],\n",
       "        [1.0323, 0.7754, 0.9102, 2.1778, 1.6230],\n",
       "        [1.6172, 1.4452, 1.1270, 3.3318, 1.7363],\n",
       "        [1.1463, 1.3423, 1.3071, 2.5766, 1.0079]])"
      ]
     },
     "execution_count": 34,
     "metadata": {},
     "output_type": "execute_result"
    }
   ],
   "source": [
    "a1.matmul(a2)"
   ]
  },
  {
   "cell_type": "markdown",
   "id": "b53da7e7-f3cd-47b2-bb43-6c6995b6650b",
   "metadata": {},
   "source": [
    "### View inferr"
   ]
  },
  {
   "cell_type": "code",
   "execution_count": 35,
   "id": "1ee15f0b-fd5e-4897-ac7d-d3ebc23fbdba",
   "metadata": {},
   "outputs": [],
   "source": [
    "a3 = torch.rand(5,4)"
   ]
  },
  {
   "cell_type": "code",
   "execution_count": 36,
   "id": "d73d6f7a-f99a-427e-8f5b-34622a7e71f1",
   "metadata": {},
   "outputs": [
    {
     "data": {
      "text/plain": [
       "tensor([[0.3086, 0.7213],\n",
       "        [0.5903, 0.0177],\n",
       "        [0.8387, 0.4876],\n",
       "        [0.7984, 0.5457],\n",
       "        [0.4238, 0.1236],\n",
       "        [0.2420, 0.7795],\n",
       "        [0.1009, 0.7290],\n",
       "        [0.3650, 0.9063],\n",
       "        [0.3241, 0.4764],\n",
       "        [0.8160, 0.0279]])"
      ]
     },
     "execution_count": 36,
     "metadata": {},
     "output_type": "execute_result"
    }
   ],
   "source": [
    "a3.view(10,-1)"
   ]
  },
  {
   "cell_type": "code",
   "execution_count": 37,
   "id": "ce7a9517-bdff-43fb-942e-bc5f1d0ccf07",
   "metadata": {},
   "outputs": [
    {
     "data": {
      "text/plain": [
       "torch.Size([10, 2])"
      ]
     },
     "execution_count": 37,
     "metadata": {},
     "output_type": "execute_result"
    }
   ],
   "source": [
    "a3.view(10,-1).shape"
   ]
  },
  {
   "cell_type": "markdown",
   "id": "f74300d1-dda9-42d3-873d-b3468ab1ab29",
   "metadata": {},
   "source": [
    "#"
   ]
  },
  {
   "cell_type": "markdown",
   "id": "dfd49b24-dae8-4db8-a80f-3384a9b0d2f5",
   "metadata": {},
   "source": [
    "## Scalars Operations"
   ]
  },
  {
   "cell_type": "code",
   "execution_count": 38,
   "id": "90de7b06-e298-49b1-aa2d-2be45f8d8e60",
   "metadata": {},
   "outputs": [
    {
     "data": {
      "text/plain": [
       "tensor([[8., 8., 8., 8.],\n",
       "        [8., 8., 8., 8.],\n",
       "        [8., 8., 8., 8.],\n",
       "        [8., 8., 8., 8.],\n",
       "        [8., 8., 8., 8.]])"
      ]
     },
     "execution_count": 38,
     "metadata": {},
     "output_type": "execute_result"
    }
   ],
   "source": [
    "torch.ones(5,4)+7"
   ]
  },
  {
   "cell_type": "code",
   "execution_count": 39,
   "id": "40cd3424-5488-46f1-bf6f-20493d85f7dc",
   "metadata": {},
   "outputs": [
    {
     "data": {
      "text/plain": [
       "tensor([4, 4, 4])"
      ]
     },
     "execution_count": 39,
     "metadata": {},
     "output_type": "execute_result"
    }
   ],
   "source": [
    "torch.tensor([2,2,2]) **2"
   ]
  },
  {
   "cell_type": "markdown",
   "id": "cdd11612-ee41-40bf-ba4c-90ed057999f9",
   "metadata": {},
   "source": [
    "## Other Operations"
   ]
  },
  {
   "cell_type": "code",
   "execution_count": 40,
   "id": "2ef2cf5f-2c09-45de-9f72-c012f7e83ff0",
   "metadata": {},
   "outputs": [],
   "source": [
    "newT= torch.rand(5,4)"
   ]
  },
  {
   "cell_type": "code",
   "execution_count": 41,
   "id": "fe9feb9a-9cfb-48d8-8272-e92d2f5e6c95",
   "metadata": {},
   "outputs": [
    {
     "data": {
      "text/plain": [
       "tensor([[0.1828, 0.0913, 0.4719, 0.2972],\n",
       "        [0.5415, 0.8798, 0.7179, 0.9393],\n",
       "        [0.2551, 0.9267, 0.5981, 0.9966],\n",
       "        [0.3189, 0.1051, 0.0703, 0.3034],\n",
       "        [0.3813, 0.4584, 0.2483, 0.4686]])"
      ]
     },
     "execution_count": 41,
     "metadata": {},
     "output_type": "execute_result"
    }
   ],
   "source": [
    "newT"
   ]
  },
  {
   "cell_type": "code",
   "execution_count": 42,
   "id": "61c4c3e9-bf12-4568-8819-f89138668578",
   "metadata": {},
   "outputs": [
    {
     "name": "stdout",
     "output_type": "stream",
     "text": [
      "tensor(0.0703)\n",
      "tensor(0.9966)\n",
      "tensor(0.4626)\n",
      "tensor([[0.5456, 0.5228, 0.6158, 0.5738],\n",
      "        [0.6322, 0.7068, 0.6721, 0.7189],\n",
      "        [0.5634, 0.7164, 0.6452, 0.7304],\n",
      "        [0.5791, 0.5263, 0.5176, 0.5753],\n",
      "        [0.5942, 0.6126, 0.5618, 0.6150]])\n",
      "tensor([[0.1817, 0.0911, 0.4546, 0.2929],\n",
      "        [0.5155, 0.7706, 0.6578, 0.8071],\n",
      "        [0.2523, 0.7996, 0.5631, 0.8396],\n",
      "        [0.3135, 0.1049, 0.0702, 0.2987],\n",
      "        [0.3722, 0.4425, 0.2457, 0.4516]])\n"
     ]
    }
   ],
   "source": [
    "print(newT.min())\n",
    "print(newT.max())\n",
    "print(newT.mean())\n",
    "print(torch.sigmoid(newT))\n",
    "print(torch.sin(newT))"
   ]
  },
  {
   "cell_type": "markdown",
   "id": "a5fc07dc-0b2a-496d-b060-75283f60c045",
   "metadata": {},
   "source": [
    "## Deep Copy"
   ]
  },
  {
   "cell_type": "code",
   "execution_count": 43,
   "id": "a585a566-8fd2-4941-8b7f-addaa44cd05f",
   "metadata": {},
   "outputs": [],
   "source": [
    "c= torch.rand(1,2, dtype=torch.float)"
   ]
  },
  {
   "cell_type": "code",
   "execution_count": 44,
   "id": "cf5824ff-3b17-4dc0-8690-397418e06336",
   "metadata": {},
   "outputs": [
    {
     "data": {
      "text/plain": [
       "tensor([[0.8104, 0.3171]])"
      ]
     },
     "execution_count": 44,
     "metadata": {},
     "output_type": "execute_result"
    }
   ],
   "source": [
    "c"
   ]
  },
  {
   "cell_type": "code",
   "execution_count": 45,
   "id": "1e53e73b-4236-46a6-afce-37980e51ab1b",
   "metadata": {},
   "outputs": [],
   "source": [
    "cc=c"
   ]
  },
  {
   "cell_type": "code",
   "execution_count": 46,
   "id": "bdf4002b-f60e-4728-b87b-39537b3f1f92",
   "metadata": {},
   "outputs": [
    {
     "data": {
      "text/plain": [
       "tensor([[0.8104, 0.3171]])"
      ]
     },
     "execution_count": 46,
     "metadata": {},
     "output_type": "execute_result"
    }
   ],
   "source": [
    "cc"
   ]
  },
  {
   "cell_type": "code",
   "execution_count": 47,
   "id": "60b059f0-3657-48a5-9588-c66f953d541c",
   "metadata": {},
   "outputs": [],
   "source": [
    "c[0,1]=2"
   ]
  },
  {
   "cell_type": "code",
   "execution_count": 48,
   "id": "22474e15-4468-47c9-b5ed-7801950697b8",
   "metadata": {},
   "outputs": [
    {
     "data": {
      "text/plain": [
       "tensor([[0.8104, 2.0000]])"
      ]
     },
     "execution_count": 48,
     "metadata": {},
     "output_type": "execute_result"
    }
   ],
   "source": [
    "c"
   ]
  },
  {
   "cell_type": "code",
   "execution_count": 49,
   "id": "c2c3d231-12d3-4edb-9f9d-16c5df563740",
   "metadata": {},
   "outputs": [
    {
     "data": {
      "text/plain": [
       "tensor([[0.8104, 2.0000]])"
      ]
     },
     "execution_count": 49,
     "metadata": {},
     "output_type": "execute_result"
    }
   ],
   "source": [
    "cc"
   ]
  },
  {
   "cell_type": "code",
   "execution_count": 50,
   "id": "024f339e-d235-48c5-be44-1edd99669e65",
   "metadata": {},
   "outputs": [],
   "source": [
    "cc= c.clone()"
   ]
  },
  {
   "cell_type": "code",
   "execution_count": 51,
   "id": "35b6e0a4-5d44-42a9-a131-89bfafb1e1f7",
   "metadata": {},
   "outputs": [
    {
     "data": {
      "text/plain": [
       "tensor([[0.8104, 2.0000]])"
      ]
     },
     "execution_count": 51,
     "metadata": {},
     "output_type": "execute_result"
    }
   ],
   "source": [
    "cc"
   ]
  },
  {
   "cell_type": "code",
   "execution_count": 52,
   "id": "1fae6f67-5fa1-4f91-b64b-35ef69f384ac",
   "metadata": {},
   "outputs": [],
   "source": [
    "c[0,0]=1"
   ]
  },
  {
   "cell_type": "code",
   "execution_count": 53,
   "id": "580ba4dc-1d3c-41e3-b257-15c85da30a7b",
   "metadata": {},
   "outputs": [
    {
     "data": {
      "text/plain": [
       "tensor([[1., 2.]])"
      ]
     },
     "execution_count": 53,
     "metadata": {},
     "output_type": "execute_result"
    }
   ],
   "source": [
    "c"
   ]
  },
  {
   "cell_type": "code",
   "execution_count": 55,
   "id": "7392c7cc-f746-4cd1-a795-db39f1d9cdc5",
   "metadata": {},
   "outputs": [
    {
     "data": {
      "text/plain": [
       "tensor([[0.8104, 2.0000]])"
      ]
     },
     "execution_count": 55,
     "metadata": {},
     "output_type": "execute_result"
    }
   ],
   "source": [
    "cc"
   ]
  }
 ],
 "metadata": {
  "kernelspec": {
   "display_name": "Python 3 (ipykernel)",
   "language": "python",
   "name": "python3"
  },
  "language_info": {
   "codemirror_mode": {
    "name": "ipython",
    "version": 3
   },
   "file_extension": ".py",
   "mimetype": "text/x-python",
   "name": "python",
   "nbconvert_exporter": "python",
   "pygments_lexer": "ipython3",
   "version": "3.11.4"
  }
 },
 "nbformat": 4,
 "nbformat_minor": 5
}
